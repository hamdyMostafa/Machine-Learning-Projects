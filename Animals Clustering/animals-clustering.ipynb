{
 "cells": [
  {
   "cell_type": "markdown",
   "metadata": {},
   "source": [
    "# Clustering animals with attributes"
   ]
  },
  {
   "cell_type": "markdown",
   "metadata": {},
   "source": [
    "In this notebook, we'll get a feel for clustering by applying <font color=\"magenta\">**k-means**</font> and <font color=\"magenta\">**average linkage**</font> to cluster a collection of animals.\n",
    "\n",
    "The data set we'll work with is called `Animals with Attributes`. It contains information about 50 animals. For each, it has 85 real-valued features that capture various properties of the animal: where it lives, what it eats, and so on. You can download the data set from:\n",
    "\n",
    "http://attributes.kyb.tuebingen.mpg.de\n",
    "\n",
    "(Under \"Downloads\", choose the \"base package\".) Make sure the files `'classes.txt'` and `'predicate-matrix-continuous.txt'` are in the same directory as this notebook before you begin."
   ]
  },
  {
   "cell_type": "markdown",
   "metadata": {},
   "source": [
    "## 1. Load in the data set"
   ]
  },
  {
   "cell_type": "markdown",
   "metadata": {},
   "source": [
    "Standard includes as well as some modules for k-means and hierarchical clustering."
   ]
  },
  {
   "cell_type": "code",
   "execution_count": 32,
   "metadata": {
    "collapsed": true
   },
   "outputs": [],
   "source": [
    "%matplotlib inline\n",
    "import matplotlib\n",
    "import matplotlib.pyplot\n",
    "import numpy as np\n",
    "import scipy.cluster.hierarchy as sch\n",
    "from sklearn.cluster import KMeans"
   ]
  },
  {
   "cell_type": "markdown",
   "metadata": {},
   "source": [
    "Load in the data set. The file `'classes.txt'` contains the names of the 50 animals. The file `'predicate-matrix-continuous.txt'` contains the data itself: 85 attributes per animal."
   ]
  },
  {
   "cell_type": "code",
   "execution_count": 33,
   "metadata": {},
   "outputs": [],
   "source": [
    "#\n",
    "# Load in animal names\n",
    "#\n",
    "f = open('classes.txt')\n",
    "lines = f.readlines()\n",
    "names = []\n",
    "for line in lines:\n",
    "    (key,val) = line.split()\n",
    "    names.append(val)\n",
    "f.close()\n",
    "#\n",
    "# Load attribute matrix\n",
    "#\n",
    "x = np.loadtxt('predicate-matrix-continuous.txt')"
   ]
  },
  {
   "cell_type": "code",
   "execution_count": 10,
   "metadata": {},
   "outputs": [
    {
     "data": {
      "text/plain": [
       "['antelope',\n",
       " 'grizzly+bear',\n",
       " 'killer+whale',\n",
       " 'beaver',\n",
       " 'dalmatian',\n",
       " 'persian+cat',\n",
       " 'horse',\n",
       " 'german+shepherd',\n",
       " 'blue+whale',\n",
       " 'siamese+cat',\n",
       " 'skunk',\n",
       " 'mole',\n",
       " 'tiger',\n",
       " 'hippopotamus',\n",
       " 'leopard',\n",
       " 'moose',\n",
       " 'spider+monkey',\n",
       " 'humpback+whale',\n",
       " 'elephant',\n",
       " 'gorilla',\n",
       " 'ox',\n",
       " 'fox',\n",
       " 'sheep',\n",
       " 'seal',\n",
       " 'chimpanzee',\n",
       " 'hamster',\n",
       " 'squirrel',\n",
       " 'rhinoceros',\n",
       " 'rabbit',\n",
       " 'bat',\n",
       " 'giraffe',\n",
       " 'wolf',\n",
       " 'chihuahua',\n",
       " 'rat',\n",
       " 'weasel',\n",
       " 'otter',\n",
       " 'buffalo',\n",
       " 'zebra',\n",
       " 'giant+panda',\n",
       " 'deer',\n",
       " 'bobcat',\n",
       " 'pig',\n",
       " 'lion',\n",
       " 'mouse',\n",
       " 'polar+bear',\n",
       " 'collie',\n",
       " 'walrus',\n",
       " 'raccoon',\n",
       " 'cow',\n",
       " 'dolphin']"
      ]
     },
     "execution_count": 10,
     "metadata": {},
     "output_type": "execute_result"
    }
   ],
   "source": [
    "names"
   ]
  },
  {
   "cell_type": "code",
   "execution_count": 9,
   "metadata": {},
   "outputs": [
    {
     "data": {
      "text/plain": [
       "(50, 85)"
      ]
     },
     "execution_count": 9,
     "metadata": {},
     "output_type": "execute_result"
    }
   ],
   "source": [
    "x.shape"
   ]
  },
  {
   "cell_type": "markdown",
   "metadata": {},
   "source": [
    "## 2. K-means clustering"
   ]
  },
  {
   "cell_type": "markdown",
   "metadata": {},
   "source": [
    "We now run Lloyd's algorithm to obtain a flat clustering of the data. In the code below, we ask for k=15 clusters, but you should experiment with other choices.\n",
    "\n",
    "We ask for random initialization, which means that different runs of the algorithm will potentially have different outcomes. It is worth running the algorithm several times to see how the results change."
   ]
  },
  {
   "cell_type": "code",
   "execution_count": 34,
   "metadata": {},
   "outputs": [
    {
     "name": "stdout",
     "output_type": "stream",
     "text": [
      "1 ['beaver', 'seal', 'otter', 'dolphin']\n",
      "2 ['zebra']\n",
      "3 ['chihuahua', 'collie']\n",
      "4 ['grizzly+bear', 'polar+bear']\n",
      "5 ['hippopotamus', 'elephant', 'rhinoceros']\n",
      "6 ['killer+whale']\n",
      "7 ['spider+monkey', 'gorilla', 'chimpanzee']\n",
      "8 ['blue+whale', 'humpback+whale', 'walrus']\n",
      "9 ['tiger', 'leopard', 'wolf', 'bobcat', 'lion']\n",
      "10 ['antelope', 'horse', 'moose', 'giraffe', 'deer']\n",
      "11 ['skunk']\n",
      "12 ['mole', 'hamster', 'rabbit', 'bat', 'rat', 'mouse', 'raccoon']\n",
      "13 ['squirrel']\n",
      "14 ['dalmatian', 'persian+cat', 'german+shepherd', 'siamese+cat', 'fox', 'weasel']\n",
      "15 ['ox', 'sheep', 'buffalo', 'giant+panda', 'pig', 'cow']\n"
     ]
    }
   ],
   "source": [
    "#\n",
    "# Run Lloyd's algorithm\n",
    "#\n",
    "k = 15 # number of clusters\n",
    "kmeans = KMeans(n_clusters=k, init='random')\n",
    "kmeans.fit(x)\n",
    "#\n",
    "# Get a list of the animals in each cluster\n",
    "#\n",
    "clusters = []\n",
    "for j in range(0,k):\n",
    "    clusters.append([])\n",
    "for i in range(0,50):\n",
    "    clusters[kmeans.labels_[i]].append(names[i])\n",
    "#\n",
    "# Print out clusters\n",
    "#\n",
    "\n",
    "for j in range(0,k):\n",
    "    print(j+1, clusters[j])"
   ]
  },
  {
   "cell_type": "code",
   "execution_count": 24,
   "metadata": {},
   "outputs": [
    {
     "name": "stdout",
     "output_type": "stream",
     "text": [
      "1 ['moose', 'buffalo']\n",
      "2 ['dalmatian', 'persian+cat', 'siamese+cat', 'chihuahua', 'collie']\n",
      "3 ['tiger', 'leopard', 'bobcat', 'lion']\n",
      "4 ['spider+monkey', 'gorilla', 'chimpanzee']\n",
      "5 ['killer+whale', 'blue+whale', 'humpback+whale', 'seal', 'walrus', 'dolphin']\n",
      "6 ['skunk', 'rat', 'weasel', 'raccoon']\n",
      "7 ['grizzly+bear', 'polar+bear']\n",
      "8 ['hippopotamus', 'elephant', 'rhinoceros']\n",
      "9 ['ox', 'sheep', 'giant+panda', 'pig', 'cow']\n",
      "10 ['german+shepherd', 'fox', 'wolf']\n",
      "11 ['antelope', 'horse', 'giraffe', 'deer']\n",
      "12 ['mole', 'hamster', 'squirrel', 'rabbit', 'mouse']\n",
      "13 ['bat']\n",
      "14 ['beaver', 'otter']\n",
      "15 ['zebra']\n"
     ]
    }
   ],
   "source": [
    "#\n",
    "# Run Lloyd's algorithm\n",
    "#\n",
    "k = 15 # number of clusters\n",
    "kmeans = KMeans(n_clusters=k, init='k-means++')\n",
    "kmeans.fit(x)\n",
    "#\n",
    "# Get a list of the animals in each cluster\n",
    "#\n",
    "clusters = []\n",
    "for j in range(0,k):\n",
    "    clusters.append([])\n",
    "for i in range(0,50):\n",
    "    clusters[kmeans.labels_[i]].append(names[i])\n",
    "#\n",
    "# Print out clusters\n",
    "#\n",
    "\n",
    "for j in range(0,k):\n",
    "    print(j+1, clusters[j])"
   ]
  },
  {
   "cell_type": "markdown",
   "metadata": {},
   "source": [
    "## 3. Hierarchical clustering"
   ]
  },
  {
   "cell_type": "markdown",
   "metadata": {},
   "source": [
    "We use the built-in hierarchical clustering module of `scipy` to apply Ward's method to our data. The resulting tree is often called a *dendrogram*, and the module also has a routine that can display one of these."
   ]
  },
  {
   "cell_type": "code",
   "execution_count": 36,
   "metadata": {},
   "outputs": [
    {
     "data": {
      "image/png": "[encoded data removed]",
      "text/plain": [
       "<matplotlib.figure.Figure at 0xcaef9574e0>"
      ]
     },
     "metadata": {},
     "output_type": "display_data"
    }
   ],
   "source": [
    "#\n",
    "# Adjust figure size to accommodate the full tree\n",
    "#\n",
    "from pylab import rcParams\n",
    "rcParams['figure.figsize'] = 5, 10\n",
    "#\n",
    "# Do hierarchical clustering using Ward's method\n",
    "#\n",
    "z = sch.linkage(x, method='ward')\n",
    "#\n",
    "# Display dendrogram\n",
    "#\n",
    "info = sch.dendrogram(z, orientation='left', labels=names, leaf_font_size=11)"
   ]
  },
  {
   "cell_type": "markdown",
   "metadata": {},
   "source": [
    "## 4. Questions to ponder"
   ]
  },
  {
   "cell_type": "markdown",
   "metadata": {},
   "source": [
    "Here are some things to think about:\n",
    "\n",
    "<font color=\"magenta\">Multiple runs of Lloyd's algorithm.</font>\n",
    "Lloyd's algorithm potentially returns a different solution each time it is run. Is there any reason to run it more than once? For instance, is there a sensible way of combining the information from several runs, of interpreting the similarities and differences?\n",
    "\n",
    "<font color=\"magenta\">Sensitivity to the choice of features.</font>\n",
    "Both clustering methods are highly sensitive to the choice of features. How would you feel if the results changed dramatically when just one or two features were dropped? \n",
    "\n",
    "<font color=\"magenta\">Criteria for success.</font>\n",
    "This is clearly an application in which we are hoping that clustering will discover 'natural groups' in the data. To what extent do the algorithms succeed at this? Are the clusters mostly reasonable? Can we, in general, hope that tha clustering will perfectly capture what we want? Under what conditions would we be pleased with the clustering?"
   ]
  },
  {
   "cell_type": "code",
   "execution_count": null,
   "metadata": {
    "collapsed": true
   },
   "outputs": [],
   "source": []
  }
 ],
 "metadata": {
  "kernelspec": {
   "display_name": "Python 3",
   "language": "python",
   "name": "python3"
  },
  "language_info": {
   "codemirror_mode": {
    "name": "ipython",
    "version": 3
   },
   "file_extension": ".py",
   "mimetype": "text/x-python",
   "name": "python",
   "nbconvert_exporter": "python",
   "pygments_lexer": "ipython3",
   "version": "3.6.3"
  },
  "toc": {
   "colors": {
    "hover_highlight": "#DAA520",
    "navigate_num": "#000000",
    "navigate_text": "#333333",
    "running_highlight": "#FF0000",
    "selected_highlight": "#FFD700",
    "sidebar_border": "#EEEEEE",
    "wrapper_background": "#FFFFFF"
   },
   "moveMenuLeft": true,
   "nav_menu": {
    "height": "12px",
    "width": "252px"
   },
   "navigate_menu": true,
   "number_sections": false,
   "sideBar": true,
   "threshold": 4,
   "toc_cell": false,
   "toc_section_display": "block",
   "toc_window_display": false,
   "widenNotebook": false
  }
 },
 "nbformat": 4,
 "nbformat_minor": 1
}
