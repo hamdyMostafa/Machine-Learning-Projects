{
 "cells": [
  {
   "cell_type": "markdown",
   "metadata": {},
   "source": [
    "### 1. Set up notebook and load data set"
   ]
  },
  {
   "cell_type": "code",
   "execution_count": 1,
   "metadata": {
    "collapsed": true
   },
   "outputs": [],
   "source": [
    "import numpy as np\n",
    "data = np.loadtxt('mystery.dat',dtype='str')"
   ]
  },
  {
   "cell_type": "code",
   "execution_count": 2,
   "metadata": {
    "collapsed": true
   },
   "outputs": [],
   "source": [
    "DADA = np.zeros((1,101))\n",
    "for row in data:\n",
    "    row = row.split(',')\n",
    "    row = [float(num) for num in row]\n",
    "    DADA = np.vstack((DADA,row))\n",
    "\n",
    "    \n",
    "DADA = np.delete(DADA, 0, 0)    "
   ]
  },
  {
   "cell_type": "code",
   "execution_count": 3,
   "metadata": {
    "collapsed": true
   },
   "outputs": [],
   "source": [
    "x = DADA[:,0:100]\n",
    "y = DADA[:,100]"
   ]
  },
  {
   "cell_type": "markdown",
   "metadata": {},
   "source": [
    "### 2. Feature Engineering"
   ]
  },
  {
   "cell_type": "markdown",
   "metadata": {},
   "source": [
    "**In this data set, $y$ is a linear function of just 10 of the features in , plus some noise. Your job is to identify those ten features.**"
   ]
  },
  {
   "cell_type": "code",
   "execution_count": 50,
   "metadata": {},
   "outputs": [
    {
     "name": "stdout",
     "output_type": "stream",
     "text": [
      "[ 0.          0.16683755  0.06929291  0.          0.35083895 -0.\n",
      "  0.34002443 -0.         -0.         -0.          0.46438447 -0.\n",
      "  0.29430879  0.         -0.         -0.          0.58932974 -0.\n",
      "  0.42436172  0.          0.         -0.          0.44812406  0.         -0.\n",
      " -0.         -0.          0.          0.0345059   0.         -0.          0.\n",
      "  0.         -0.         -0.         -0.         -0.          0.         -0.\n",
      "  0.         -0.          0.         -0.         -0.          0.         -0.\n",
      " -0.         -0.          0.          0.         -0.          0.          0.\n",
      "  0.         -0.          0.         -0.         -0.          0.          0.\n",
      "  0.          0.          0.         -0.         -0.          0.         -0.\n",
      " -0.          0.          0.          0.          0.          0.          0.\n",
      "  0.          0.         -0.          0.         -0.         -0.\n",
      "  0.09835105 -0.         -0.         -0.         -0.         -0.         -0.\n",
      "  0.         -0.         -0.          0.          0.          0.          0.\n",
      "  0.          0.         -0.          0.         -0.          0.        ]\n"
     ]
    }
   ],
   "source": [
    "from sklearn.linear_model import Lasso\n",
    "regr = Lasso(alpha = 0.55) \n",
    "regr.fit(x,y)\n",
    "w = regr.coef_\n",
    "\n",
    "print(w)"
   ]
  },
  {
   "cell_type": "code",
   "execution_count": 51,
   "metadata": {},
   "outputs": [
    {
     "name": "stdout",
     "output_type": "stream",
     "text": [
      "(array([1], dtype=int64),)\n",
      "(array([2], dtype=int64),)\n",
      "(array([4], dtype=int64),)\n",
      "(array([6], dtype=int64),)\n",
      "(array([10], dtype=int64),)\n",
      "(array([12], dtype=int64),)\n",
      "(array([16], dtype=int64),)\n",
      "(array([18], dtype=int64),)\n",
      "(array([22], dtype=int64),)\n",
      "(array([28], dtype=int64),)\n",
      "(array([80], dtype=int64),)\n"
     ]
    }
   ],
   "source": [
    "for i in w:\n",
    "    if i != 0:\n",
    "        print( np.where(w == i))"
   ]
  },
  {
   "cell_type": "code",
   "execution_count": null,
   "metadata": {
    "collapsed": true
   },
   "outputs": [],
   "source": []
  }
 ],
 "metadata": {
  "kernelspec": {
   "display_name": "Python 3",
   "language": "python",
   "name": "python3"
  },
  "language_info": {
   "codemirror_mode": {
    "name": "ipython",
    "version": 3
   },
   "file_extension": ".py",
   "mimetype": "text/x-python",
   "name": "python",
   "nbconvert_exporter": "python",
   "pygments_lexer": "ipython3",
   "version": "3.6.3"
  }
 },
 "nbformat": 4,
 "nbformat_minor": 2
}
